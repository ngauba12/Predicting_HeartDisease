{
 "cells": [
  {
   "cell_type": "markdown",
   "metadata": {
    "colab_type": "text",
    "id": "o6s7MOjZAJCe"
   },
   "source": [
    "# Heart Attack Prediction "
   ]
  },
  {
   "cell_type": "markdown",
   "metadata": {
    "colab_type": "text",
    "id": "1s4mEt75-De6"
   },
   "source": [
    "\n",
    "<h2> Problem Statement </h2>"
   ]
  },
  {
   "cell_type": "markdown",
   "metadata": {
    "colab_type": "text",
    "id": "2bVwAxvG-YxB"
   },
   "source": [
    "Heart disease is one of the biggest causes of morbidity and mortality among the population of the world. Prediction of cardiovascular disease is regarded as one of the most important subjects in the section of clinical data analysis.\n",
    "and Here we start developing the prediction model using google colab Notebook  . through this notebook we analyse the insights over data by exploratory data analysis techniques.\n",
    "The Objective of the preparing notebook is to better understand and connect with the data that is features, distribution of the data and other various factors in the data that is related to disease prediction\n",
    "\n"
   ]
  },
  {
   "cell_type": "markdown",
   "metadata": {
    "colab_type": "text",
    "id": "L_n2A-4X_rOX"
   },
   "source": [
    "<h2> Description </h2>"
   ]
  },
  {
   "cell_type": "markdown",
   "metadata": {
    "colab_type": "text",
    "id": "Zv5OwlW9_yRK"
   },
   "source": [
    "Source: https://www.kaggle.com/ronitf/heart-disease-uci          \n",
    "Data: Heart.csv"
   ]
  },
  {
   "cell_type": "markdown",
   "metadata": {
    "colab_type": "text",
    "id": "EpBJHDCE-2Kz"
   },
   "source": [
    "<h2>1.1 Business objectives and constraints.</h2>"
   ]
  },
  {
   "cell_type": "markdown",
   "metadata": {
    "colab_type": "text",
    "id": "dLk9f8qz-2NQ"
   },
   "source": [
    "* No low-latency requirement.\n",
    "* Interpretability is important.\n",
    "* Errors can be very costly."
   ]
  },
  {
   "cell_type": "markdown",
   "metadata": {
    "colab_type": "text",
    "id": "rCE4ur15-2QA"
   },
   "source": [
    "<h2>Data Attribute Description</h2>\n",
    "\n",
    "<ul>\n",
    "      \n",
    "    \n",
    "<li> age --> The person's age in years</li>\n",
    "<li>sex --> The person's sex (1 = male, 0 = female)</li>\n",
    "<li>cp --> The chest pain experienced (Value 1: typical angina, Value 2: atypical angina, Value 3: non-anginal pain, Value 4: asymptomatic)</li>\n",
    "<li>trestbps --> The person's resting blood pressure (mm Hg on admission to the hospital)</li>\n",
    "<li>chol --> The person's cholesterol measurement in mg/dl</li>\n",
    "<li>fbs --> The person's fasting blood sugar (> 120 mg/dl, 1 = true; 0 = false)</li>\n",
    "<li>restecg --> Resting electrocardiographic measurement (0 = normal, 1 = having ST-T wave abnormality, 2 = showing probable or definite left ventricular hypertrophy by Estes'criteria)</li>\n",
    "<li>thalach --> The person's maximum heart rate achieved</li>\n",
    "<li>exang --> Exercise induced angina (1 = yes; 0 = no)</li>\n",
    "<li>oldpeak --> ST depression induced by exercise relative to rest ('ST' relates to positions on the ECG plot. See more here)</li>\n",
    "<li>slope: the slope of the peak exercise ST segment (Value 1: upsloping, Value 2: flat, Value 3: downsloping)</li>\n",
    "<li>ca --> The number of major vessels (0-3)</li>\n",
    "<li>thal --> A blood disorder called thalassemia (3 = normal; 6 = fixed defect; 7 = reversable defect)</li>\n",
    "<li>target --> Heart disease (0 = no, 1 = yes)</li>\n",
    "\n",
    "</ul>"
   ]
  },
  {
   "cell_type": "markdown",
   "metadata": {
    "colab_type": "text",
    "id": "C2AZhDAW98qZ"
   },
   "source": [
    "<h2>Importing Libraries</h2>"
   ]
  },
  {
   "cell_type": "code",
   "execution_count": 1,
   "metadata": {
    "colab": {},
    "colab_type": "code",
    "id": "rDrji9YF9nxI"
   },
   "outputs": [],
   "source": [
    "import warnings\n",
    "warnings.simplefilter(\"ignore\")\n",
    "\n",
    "# linear algebra Library\n",
    "import numpy as np \n",
    "\n",
    "# data processing, CSV file I/O (e.g. pd.read_csv)\n",
    "import pandas as pd \n",
    "\n",
    "# Plotting graphs Libraries\n",
    "import matplotlib.pyplot as plt\n",
    "import seaborn as sns; sns.set()\n",
    "\n",
    "# Saving data\n",
    "# import pickle\n",
    "import joblib\n",
    "\n",
    "#Model\n",
    "from sklearn.ensemble import RandomForestClassifier\n",
    "\n",
    "# Input data files are available in the \"../input/\" directory.\n",
    "# For example, running this (by clicking run or pressing Shift+Enter) will list the files in the input directory\n",
    "import os\n",
    "\n",
    "# Import tools\n",
    "from sklearn.preprocessing import StandardScaler\n",
    "from sklearn.model_selection import train_test_split\n",
    "from sklearn.model_selection import cross_val_score\n",
    "from sklearn.metrics import accuracy_score, confusion_matrix, classification_report\n",
    "from sklearn.metrics import roc_curve, auc\n",
    "import os, sys"
   ]
  },
  {
   "cell_type": "markdown",
   "metadata": {
    "colab_type": "text",
    "id": "AyWKn9tcMSm7"
   },
   "source": [
    "<h2> Reading the data </h2>"
   ]
  },
  {
   "cell_type": "code",
   "execution_count": 2,
   "metadata": {
    "colab": {
     "base_uri": "https://localhost:8080/",
     "height": 395
    },
    "colab_type": "code",
    "id": "79qafMzSLyRG",
    "outputId": "96184f8d-2829-4eab-c614-81043edf608f"
   },
   "outputs": [],
   "source": [
    "df = pd.read_csv(\"heart.csv\")\n",
    "X = df.drop(['target'], axis=1).values\n",
    "y = df['target'].values"
   ]
  },
  {
   "cell_type": "markdown",
   "metadata": {
    "colab_type": "text",
    "id": "KW6SjMDmMVfL"
   },
   "source": [
    "<h2> Dividing the data into train and test </h2>"
   ]
  },
  {
   "cell_type": "code",
   "execution_count": 3,
   "metadata": {
    "colab": {},
    "colab_type": "code",
    "id": "g2ZQivW-LyaC"
   },
   "outputs": [],
   "source": [
    "X_train, X_test, y_train, y_test = train_test_split(X, y, test_size=0.2, random_state=42)"
   ]
  },
  {
   "cell_type": "markdown",
   "metadata": {
    "colab_type": "text",
    "id": "Mk-uimgTMytT"
   },
   "source": [
    "<h2>Training the model</h2>"
   ]
  },
  {
   "cell_type": "code",
   "execution_count": 4,
   "metadata": {
    "colab": {},
    "colab_type": "code",
    "id": "zYm3ms3DLyca"
   },
   "outputs": [
    {
     "data": {
      "text/plain": [
       "RandomForestClassifier(bootstrap=True, class_weight=None, criterion='gini',\n",
       "                       max_depth=None, max_features='auto', max_leaf_nodes=None,\n",
       "                       min_impurity_decrease=0.0, min_impurity_split=None,\n",
       "                       min_samples_leaf=1, min_samples_split=2,\n",
       "                       min_weight_fraction_leaf=0.0, n_estimators=10,\n",
       "                       n_jobs=None, oob_score=False, random_state=None,\n",
       "                       verbose=0, warm_start=False)"
      ]
     },
     "execution_count": 4,
     "metadata": {},
     "output_type": "execute_result"
    }
   ],
   "source": [
    "# Initializing the model\n",
    "model = RandomForestClassifier()\n",
    "# Training the model\n",
    "model.fit(X_train,y_train)"
   ]
  },
  {
   "cell_type": "markdown",
   "metadata": {
    "colab_type": "text",
    "id": "Hut3unJRPV0P"
   },
   "source": [
    "<h2>Predicting from the trained model on train data </h2>"
   ]
  },
  {
   "cell_type": "code",
   "execution_count": 5,
   "metadata": {
    "colab": {},
    "colab_type": "code",
    "id": "cEVF4SMmPAhv"
   },
   "outputs": [],
   "source": [
    "y_pred_train = model.predict(X_train)"
   ]
  },
  {
   "cell_type": "markdown",
   "metadata": {
    "colab_type": "text",
    "id": "vmImmrQYPcRT"
   },
   "source": [
    "<h2>Checking Accuracy on the train data</h2>"
   ]
  },
  {
   "cell_type": "code",
   "execution_count": 6,
   "metadata": {
    "colab": {},
    "colab_type": "code",
    "id": "sRleRocgPlYn"
   },
   "outputs": [
    {
     "name": "stdout",
     "output_type": "stream",
     "text": [
      "accuracy percentage on test data: 99.58677685950413\n"
     ]
    }
   ],
   "source": [
    "accuracy_train = accuracy_score(y_train, y_pred_train)\n",
    "print(\"accuracy percentage on test data:\",accuracy_train*100)"
   ]
  },
  {
   "cell_type": "markdown",
   "metadata": {
    "colab_type": "text",
    "id": "kDriN3-tO2vf"
   },
   "source": [
    "<h2> Predicting from the trained model on test data </h2>"
   ]
  },
  {
   "cell_type": "code",
   "execution_count": 7,
   "metadata": {
    "colab": {},
    "colab_type": "code",
    "id": "zC9omKQTLyfU"
   },
   "outputs": [],
   "source": [
    "y_pred = model.predict(X_test)"
   ]
  },
  {
   "cell_type": "markdown",
   "metadata": {
    "colab_type": "text",
    "id": "odkNmfMxM_W2"
   },
   "source": [
    "<h2>Checking Accuracy</h2>"
   ]
  },
  {
   "cell_type": "code",
   "execution_count": 8,
   "metadata": {
    "colab": {},
    "colab_type": "code",
    "id": "P4XJhaMqLyh6"
   },
   "outputs": [
    {
     "name": "stdout",
     "output_type": "stream",
     "text": [
      "accuracy percentage on test data: 80.32786885245902\n"
     ]
    }
   ],
   "source": [
    "accuracy = accuracy_score(y_test, y_pred)\n",
    "print(\"accuracy percentage on test data:\",accuracy*100)"
   ]
  },
  {
   "cell_type": "markdown",
   "metadata": {
    "colab_type": "text",
    "id": "w7mMRr07NYSb"
   },
   "source": [
    "<h2>Confusion Matrix</h2>"
   ]
  },
  {
   "cell_type": "code",
   "execution_count": 9,
   "metadata": {
    "colab": {},
    "colab_type": "code",
    "id": "fSgfELusLykX"
   },
   "outputs": [
    {
     "data": {
      "image/png": "[encoded data removed]",
      "text/plain": [
       "<Figure size 360x360 with 1 Axes>"
      ]
     },
     "metadata": {
      "needs_background": "light"
     },
     "output_type": "display_data"
    }
   ],
   "source": [
    "# (This is done to determine how model is performing on negative and positive data)\n",
    "plt.figure(figsize=(5, 5))\n",
    "mat = confusion_matrix(y_test, y_pred)\n",
    "sns.heatmap(mat.T, square=True, \n",
    "            annot=True, \n",
    "            cbar=False, \n",
    "            xticklabels=[\"Haven't Disease\", \"Have Disease\"], \n",
    "            yticklabels=[\"Haven't Disease\", \"Have Disease\"])\n",
    "plt.xlabel('Predicted Values')\n",
    "plt.ylabel('True Values')\n",
    "plt.show()"
   ]
  },
  {
   "cell_type": "markdown",
   "metadata": {
    "colab_type": "text",
    "id": "h74X6JVON1BL"
   },
   "source": [
    "<h2>Receiver Operating Characteristic Plot</h2>"
   ]
  },
  {
   "cell_type": "code",
   "execution_count": 10,
   "metadata": {
    "colab": {},
    "colab_type": "code",
    "id": "j8rlfI6HNaXj"
   },
   "outputs": [
    {
     "data": {
      "image/png": "[encoded data removed]",
      "text/plain": [
       "<Figure size 576x432 with 1 Axes>"
      ]
     },
     "metadata": {
      "needs_background": "light"
     },
     "output_type": "display_data"
    }
   ],
   "source": [
    "# Getting ROC AUC curve to check model performance\n",
    "y_prob = model.predict_proba(X_test)[:,1]\n",
    "fpr, tpr, thr = roc_curve(y_test, y_prob)\n",
    "lw = 2\n",
    "plt.figure(figsize=(8, 6))\n",
    "plt.plot(fpr, tpr, \n",
    "          color='darkorange', \n",
    "          lw=lw, \n",
    "          label=\"Curve Area = %0.3f\" % auc(fpr, tpr))\n",
    "plt.plot([0, 1], [0, 1], color='green', \n",
    "          lw=lw, linestyle='--')\n",
    "plt.xlabel('False Positive Rate')\n",
    "plt.ylabel('True Positive Rate')\n",
    "plt.title('Receiver Operating Characteristic Plot')\n",
    "plt.legend(loc=\"lower right\")\n",
    "plt.show()"
   ]
  },
  {
   "cell_type": "markdown",
   "metadata": {
    "colab_type": "text",
    "id": "89o0p841N4Y9"
   },
   "source": [
    "<h2>Classification Report</h2>"
   ]
  },
  {
   "cell_type": "code",
   "execution_count": 11,
   "metadata": {
    "colab": {},
    "colab_type": "code",
    "id": "si7L6dxBNqII"
   },
   "outputs": [
    {
     "name": "stdout",
     "output_type": "stream",
     "text": [
      " Classification Report\n",
      "============================================================\n",
      "              precision    recall  f1-score   support\n",
      "\n",
      " Non Disease       0.77      0.83      0.80        29\n",
      "     Disease       0.83      0.78      0.81        32\n",
      "\n",
      "    accuracy                           0.80        61\n",
      "   macro avg       0.80      0.80      0.80        61\n",
      "weighted avg       0.81      0.80      0.80        61\n",
      "\n"
     ]
    }
   ],
   "source": [
    "# Checking multiplication report over the model performance\n",
    "print(\" Classification Report\" + \"\\n\" + \"=\"*60)\n",
    "print(classification_report(y_test,\n",
    "                            y_pred,\n",
    "                            target_names=['Non Disease', 'Disease']))"
   ]
  },
  {
   "cell_type": "markdown",
   "metadata": {
    "colab_type": "text",
    "id": "y0WlxMZpQGYq"
   },
   "source": [
    "<h2>Top 5 features</h2>"
   ]
  },
  {
   "cell_type": "code",
   "execution_count": 12,
   "metadata": {
    "colab": {},
    "colab_type": "code",
    "id": "gjmoNYIlQP1m"
   },
   "outputs": [],
   "source": [
    "#Names of the features\n",
    "features_name = [\"age\",\"sex\",\"cp\",\"trestbps\",\"chol\",\"fbs\",\"restecg\",\"thalach\",\"exang\",\"oldPeak\",\"slope\",\"ca\",\"thal\"]\n",
    "\n",
    "#Getting important features from the model\n",
    "importances = model.feature_importances_\n"
   ]
  },
  {
   "cell_type": "code",
   "execution_count": 13,
   "metadata": {
    "colab": {},
    "colab_type": "code",
    "id": "yxYXFUPmQyAV"
   },
   "outputs": [
    {
     "name": "stdout",
     "output_type": "stream",
     "text": [
      "1  cp\n",
      "2  thalach\n",
      "3  oldPeak\n",
      "4  thal\n",
      "5  ca\n"
     ]
    }
   ],
   "source": [
    "imp = np.argsort(importances)[::-1][:5]\n",
    "\n",
    "\n",
    "count = 0\n",
    "for index,feature_index in enumerate(imp):\n",
    "    print(str(index + 1) + '  ' + features_name[feature_index])\n"
   ]
  },
  {
   "cell_type": "markdown",
   "metadata": {
    "colab_type": "text",
    "id": "rqaSKME9Ayub"
   },
   "source": [
    "<h2> Checking for a patient</h2>"
   ]
  },
  {
   "cell_type": "code",
   "execution_count": 14,
   "metadata": {
    "colab": {},
    "colab_type": "code",
    "id": "CSOA3QouA76i"
   },
   "outputs": [],
   "source": [
    "#[\"age\",\"sex\",\"cp\",\"trestbps\",\"chol\",\"fbs\",\"restecg\",\"thalach\",\"exang\",\"oldPeak\",\"slope\",\"ca\",\"thal\"]\n",
    "\n",
    "patient_data = [27,1,3,123,100,1,0,187,0,2.8,0,0,1]\n",
    "data  = np.array(list(patient_data)).reshape(1, -1)"
   ]
  },
  {
   "cell_type": "code",
   "execution_count": 15,
   "metadata": {
    "colab": {},
    "colab_type": "code",
    "id": "GXHLzbLDCmVX"
   },
   "outputs": [
    {
     "name": "stdout",
     "output_type": "stream",
     "text": [
      "Person will get a heart attack\n"
     ]
    }
   ],
   "source": [
    "if model.predict(data)[0] == 1:\n",
    "  print(\"Person will get a heart attack\")\n",
    "else:\n",
    "  print(\"You are safe\")"
   ]
  },
  {
   "cell_type": "markdown",
   "metadata": {
    "colab_type": "text",
    "id": "K8qr0UpqOR5T"
   },
   "source": [
    "<h2>Saving the Model</h2>"
   ]
  },
  {
   "cell_type": "code",
   "execution_count": 16,
   "metadata": {
    "colab": {},
    "colab_type": "code",
    "id": "qxpqDcqxN9T6"
   },
   "outputs": [],
   "source": [
    "joblib.dump(model, open(\"model.joblib\", 'wb'))"
   ]
  },
  {
   "cell_type": "code",
   "execution_count": null,
   "metadata": {
    "colab": {},
    "colab_type": "code",
    "id": "GNlzapUVOPBb"
   },
   "outputs": [],
   "source": []
  }
 ],
 "metadata": {
  "colab": {
   "collapsed_sections": [],
   "name": "Hearti_Health.ipynb",
   "provenance": [],
   "toc_visible": true
  },
  "kernelspec": {
   "display_name": "Python 3",
   "language": "python",
   "name": "python3"
  },
  "language_info": {
   "codemirror_mode": {
    "name": "ipython",
    "version": 3
   },
   "file_extension": ".py",
   "mimetype": "text/x-python",
   "name": "python",
   "nbconvert_exporter": "python",
   "pygments_lexer": "ipython3",
   "version": "3.7.4"
  }
 },
 "nbformat": 4,
 "nbformat_minor": 1
}
